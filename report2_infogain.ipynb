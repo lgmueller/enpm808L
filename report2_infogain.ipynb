{
 "cells": [
  {
   "cell_type": "markdown",
   "metadata": {},
   "source": [
    "# Investigating Information Gain\n",
    "## Lillian Mueller & Regina Hong\n",
    "\n",
    "Using the Iris dataset, build a decision tree for the data using sklearn and graphviz. "
   ]
  },
  {
   "cell_type": "code",
   "execution_count": 3,
   "metadata": {},
   "outputs": [],
   "source": [
    "from sklearn.datasets import load_iris\n",
    "from sklearn.tree import DecisionTreeClassifier\n",
    "from sklearn import tree, preprocessing\n",
    "from sklearn.model_selection import train_test_split\n",
    "from sklearn.metrics import accuracy_score, average_precision_score, r2_score\n",
    "\n",
    "import pandas as pd \n",
    "import numpy as np\n",
    "\n",
    "pd.set_option('display.max_rows', None) # to see all the rows of a dataframe"
   ]
  },
  {
   "cell_type": "code",
   "execution_count": 4,
   "metadata": {},
   "outputs": [
    {
     "data": {
      "text/html": [
       "<div>\n",
       "<style scoped>\n",
       "    .dataframe tbody tr th:only-of-type {\n",
       "        vertical-align: middle;\n",
       "    }\n",
       "\n",
       "    .dataframe tbody tr th {\n",
       "        vertical-align: top;\n",
       "    }\n",
       "\n",
       "    .dataframe thead th {\n",
       "        text-align: right;\n",
       "    }\n",
       "</style>\n",
       "<table border=\"1\" class=\"dataframe\">\n",
       "  <thead>\n",
       "    <tr style=\"text-align: right;\">\n",
       "      <th></th>\n",
       "      <th>sepal length (cm)</th>\n",
       "      <th>sepal width (cm)</th>\n",
       "      <th>petal length (cm)</th>\n",
       "      <th>petal width (cm)</th>\n",
       "    </tr>\n",
       "  </thead>\n",
       "  <tbody>\n",
       "    <tr>\n",
       "      <th>0</th>\n",
       "      <td>5.1</td>\n",
       "      <td>3.5</td>\n",
       "      <td>1.4</td>\n",
       "      <td>0.2</td>\n",
       "    </tr>\n",
       "    <tr>\n",
       "      <th>1</th>\n",
       "      <td>4.9</td>\n",
       "      <td>3.0</td>\n",
       "      <td>1.4</td>\n",
       "      <td>0.2</td>\n",
       "    </tr>\n",
       "    <tr>\n",
       "      <th>2</th>\n",
       "      <td>4.7</td>\n",
       "      <td>3.2</td>\n",
       "      <td>1.3</td>\n",
       "      <td>0.2</td>\n",
       "    </tr>\n",
       "    <tr>\n",
       "      <th>3</th>\n",
       "      <td>4.6</td>\n",
       "      <td>3.1</td>\n",
       "      <td>1.5</td>\n",
       "      <td>0.2</td>\n",
       "    </tr>\n",
       "    <tr>\n",
       "      <th>4</th>\n",
       "      <td>5.0</td>\n",
       "      <td>3.6</td>\n",
       "      <td>1.4</td>\n",
       "      <td>0.2</td>\n",
       "    </tr>\n",
       "  </tbody>\n",
       "</table>\n",
       "</div>"
      ],
      "text/plain": [
       "   sepal length (cm)  sepal width (cm)  petal length (cm)  petal width (cm)\n",
       "0                5.1               3.5                1.4               0.2\n",
       "1                4.9               3.0                1.4               0.2\n",
       "2                4.7               3.2                1.3               0.2\n",
       "3                4.6               3.1                1.5               0.2\n",
       "4                5.0               3.6                1.4               0.2"
      ]
     },
     "execution_count": 4,
     "metadata": {},
     "output_type": "execute_result"
    }
   ],
   "source": [
    "# loading in the iris dataset from sklearn\n",
    "iris_data = load_iris()\n",
    "\n",
    "# turning dataset into dataframe format for easier reading\n",
    "df_iris = pd.DataFrame(data=iris_data.data, columns=iris_data.feature_names)\n",
    "\n",
    "df_iris.head()"
   ]
  },
  {
   "cell_type": "code",
   "execution_count": 5,
   "metadata": {},
   "outputs": [
    {
     "data": {
      "text/html": [
       "<div>\n",
       "<style scoped>\n",
       "    .dataframe tbody tr th:only-of-type {\n",
       "        vertical-align: middle;\n",
       "    }\n",
       "\n",
       "    .dataframe tbody tr th {\n",
       "        vertical-align: top;\n",
       "    }\n",
       "\n",
       "    .dataframe thead th {\n",
       "        text-align: right;\n",
       "    }\n",
       "</style>\n",
       "<table border=\"1\" class=\"dataframe\">\n",
       "  <thead>\n",
       "    <tr style=\"text-align: right;\">\n",
       "      <th></th>\n",
       "      <th>sepal length (cm)</th>\n",
       "      <th>sepal width (cm)</th>\n",
       "      <th>petal length (cm)</th>\n",
       "      <th>petal width (cm)</th>\n",
       "      <th>class</th>\n",
       "    </tr>\n",
       "  </thead>\n",
       "  <tbody>\n",
       "    <tr>\n",
       "      <th>0</th>\n",
       "      <td>5.1</td>\n",
       "      <td>3.5</td>\n",
       "      <td>1.4</td>\n",
       "      <td>0.2</td>\n",
       "      <td>setosa</td>\n",
       "    </tr>\n",
       "    <tr>\n",
       "      <th>1</th>\n",
       "      <td>4.9</td>\n",
       "      <td>3.0</td>\n",
       "      <td>1.4</td>\n",
       "      <td>0.2</td>\n",
       "      <td>setosa</td>\n",
       "    </tr>\n",
       "    <tr>\n",
       "      <th>2</th>\n",
       "      <td>4.7</td>\n",
       "      <td>3.2</td>\n",
       "      <td>1.3</td>\n",
       "      <td>0.2</td>\n",
       "      <td>setosa</td>\n",
       "    </tr>\n",
       "    <tr>\n",
       "      <th>3</th>\n",
       "      <td>4.6</td>\n",
       "      <td>3.1</td>\n",
       "      <td>1.5</td>\n",
       "      <td>0.2</td>\n",
       "      <td>setosa</td>\n",
       "    </tr>\n",
       "    <tr>\n",
       "      <th>4</th>\n",
       "      <td>5.0</td>\n",
       "      <td>3.6</td>\n",
       "      <td>1.4</td>\n",
       "      <td>0.2</td>\n",
       "      <td>setosa</td>\n",
       "    </tr>\n",
       "  </tbody>\n",
       "</table>\n",
       "</div>"
      ],
      "text/plain": [
       "   sepal length (cm)  sepal width (cm)  petal length (cm)  petal width (cm)  \\\n",
       "0                5.1               3.5                1.4               0.2   \n",
       "1                4.9               3.0                1.4               0.2   \n",
       "2                4.7               3.2                1.3               0.2   \n",
       "3                4.6               3.1                1.5               0.2   \n",
       "4                5.0               3.6                1.4               0.2   \n",
       "\n",
       "    class  \n",
       "0  setosa  \n",
       "1  setosa  \n",
       "2  setosa  \n",
       "3  setosa  \n",
       "4  setosa  "
      ]
     },
     "execution_count": 5,
     "metadata": {},
     "output_type": "execute_result"
    }
   ],
   "source": [
    "# adding the target as a class column and renaming numbers to class names\n",
    "# 0 = setosa, 1 = versicolor, 2 = virginica\n",
    "\n",
    "df_iris['class'] = iris_data.target.tolist()\n",
    "df_iris['class'].replace({0: 'setosa', 1: 'versicolor', 2: 'virginica'},\n",
    "                inplace=True)\n",
    "\n",
    "df_iris.head()"
   ]
  },
  {
   "cell_type": "raw",
   "metadata": {},
   "source": [
    "# this was just to make sure the class column matches with the CSV provided\n",
    "df_iris.sort_values(by=['sepal length (cm)'])"
   ]
  },
  {
   "cell_type": "code",
   "execution_count": 6,
   "metadata": {},
   "outputs": [],
   "source": [
    "#Create a new column for the target (to be ready for processing)\n",
    "label_obj = preprocessing.LabelEncoder()\n",
    "df_iris['class_level'] = label_obj.fit_transform(df_iris['class'])\n",
    "\n",
    "# Create decision tree model object\n",
    "dt_model = tree.DecisionTreeClassifier()\n",
    "predictors, target = iris_data.data, iris_data.target\n",
    "dt_model.fit(predictors, target)\n",
    "\n",
    "# Create the tree diagram\n",
    "with open(\"iris.dot\", 'w') as f:\n",
    "    f = tree.export_graphviz(dt_model, out_file=f, feature_names=iris_data.feature_names, class_names=iris_data.target_names)"
   ]
  },
  {
   "cell_type": "code",
   "execution_count": 7,
   "metadata": {},
   "outputs": [],
   "source": [
    "# changing purity measure from Gini impurity to emtropy\n",
    "dt_model2 = tree.DecisionTreeClassifier(criterion='entropy')\n",
    "dt_model2.fit(predictors, target)\n",
    "\n",
    "# Create the new tree diagram\n",
    "with open(\"iris2.dot\", 'w') as f:\n",
    "    f = tree.export_graphviz(dt_model2, out_file=f, feature_names=iris_data.feature_names, class_names=iris_data.target_names)"
   ]
  },
  {
   "cell_type": "code",
   "execution_count": 8,
   "metadata": {},
   "outputs": [
    {
     "name": "stdout",
     "output_type": "stream",
     "text": [
      "Train data accuracy: 1.0\n",
      "Test data accuracy: 0.96\n",
      "Test data r2: 0.9351070733290071\n"
     ]
    }
   ],
   "source": [
    "# splitting the dataset so that 2/3 is used for training and 1/3 for testing\n",
    "\n",
    "# Creating Train and Test datasets\n",
    "x_train, x_test, y_train, y_test = train_test_split(predictors, target, test_size = 0.33)\n",
    "\n",
    "dt_modeltr = tree.DecisionTreeClassifier()\n",
    "dt_modeltr.fit(x_train,y_train)\n",
    "\n",
    "# Predict Accuracy Score\n",
    "y_pred = dt_modeltr.predict(x_test)\n",
    "print(\"Train data accuracy:\",accuracy_score(y_true = y_train, y_pred=dt_modeltr.predict(x_train)))\n",
    "print(\"Test data accuracy:\",accuracy_score(y_true = y_test, y_pred=y_pred))\n",
    "print(\"Test data r2:\", r2_score(y_true = y_test, y_pred=y_pred))"
   ]
  },
  {
   "cell_type": "markdown",
   "metadata": {},
   "source": [
    "The accuracy changes every time you run it, probably due to the random assignment of test data.\n",
    "\n",
    "Typically results in accuracy of 0.90+\n"
   ]
  },
  {
   "cell_type": "code",
   "execution_count": 9,
   "metadata": {},
   "outputs": [
    {
     "name": "stdout",
     "output_type": "stream",
     "text": [
      "Train data accuracy: 1.0\n",
      "Test data accuracy: 0.8333333333333334\n",
      "Test data r2: 0.6932515337423313\n"
     ]
    }
   ],
   "source": [
    "# alternate method: splitting the dataset so it is 80%/20% train/test\n",
    "\n",
    "# Creating Train and Test datasets\n",
    "x_train2, x_test2, y_train2, y_test2 = train_test_split(predictors, target, test_size=0.2)\n",
    "\n",
    "dt_modeltr2 = tree.DecisionTreeClassifier()\n",
    "dt_modeltr2.fit(x_train2,y_train2)\n",
    "\n",
    "# Predict Accuracy Score\n",
    "y_pred2 = dt_modeltr2.predict(x_test2)\n",
    "print(\"Train data accuracy:\",accuracy_score(y_true = y_train2, y_pred=dt_modeltr2.predict(x_train2)))\n",
    "print(\"Test data accuracy:\",accuracy_score(y_true = y_test2, y_pred=y_pred2))\n",
    "print(\"Test data r2:\", r2_score(y_true = y_test2, y_pred=y_pred2))"
   ]
  },
  {
   "cell_type": "markdown",
   "metadata": {},
   "source": [
    "Accuracy results are around 0.93+ and sometimes hit 1.0, a little more accurate than when 2/3 of the data was used for training.\n",
    "\n",
    "Accuracy didn't really drop to consistently being below 0.90 until the test size was increased to 85% - may be due to small sample in general."
   ]
  },
  {
   "cell_type": "code",
   "execution_count": 19,
   "metadata": {},
   "outputs": [
    {
     "name": "stdout",
     "output_type": "stream",
     "text": [
      "Train data accuracy: 0.98\n",
      "Test data accuracy: 0.98\n",
      "Test data r2: 0.9712808730614589\n"
     ]
    }
   ],
   "source": [
    "# alternate method: keeping original test/train split but constraining max_depth parameter to 3 or 4 levels\n",
    "\n",
    "# Creating Train and Test datasets\n",
    "x_train3, x_test3, y_train3, y_test3 = train_test_split(predictors, target, test_size = 0.33)\n",
    "\n",
    "dt_modeltr3 = tree.DecisionTreeClassifier(max_depth=4)\n",
    "dt_modeltr3.fit(x_train3,y_train3)\n",
    "\n",
    "# Create the new tree diagram\n",
    "with open(\"iris-gini-4level.dot\", 'w') as f:\n",
    "    f = tree.export_graphviz(dt_modeltr3, out_file=f, feature_names=iris_data.feature_names, class_names=iris_data.target_names)\n",
    "\n",
    "# Predict Accuracy Score\n",
    "y_pred3 = dt_modeltr3.predict(x_test3)\n",
    "print(\"Train data accuracy:\",accuracy_score(y_true = y_train3, y_pred=dt_modeltr3.predict(x_train3)))\n",
    "print(\"Test data accuracy:\",accuracy_score(y_true = y_test3, y_pred=y_pred3))\n",
    "print(\"Test data r2:\", r2_score(y_true = y_test3, y_pred=y_pred3))"
   ]
  },
  {
   "cell_type": "code",
   "execution_count": 17,
   "metadata": {},
   "outputs": [
    {
     "name": "stdout",
     "output_type": "stream",
     "text": [
      "Train data accuracy: 1.0\n",
      "Test data accuracy: 0.96\n",
      "Test data r2: 0.9459167117360735\n"
     ]
    }
   ],
   "source": [
    "# alternate method: keeping original test/train split but constraining max_depth parameter to 3 or 4 levels\n",
    "\n",
    "# Creating Train and Test datasets\n",
    "x_train4, x_test4, y_train4, y_test4 = train_test_split(predictors, target, test_size = 0.33)\n",
    "\n",
    "dt_modeltr4 = tree.DecisionTreeClassifier(criterion='entropy', max_depth=4)\n",
    "dt_modeltr4.fit(x_train4,y_train4)\n",
    "\n",
    "# Create the new tree diagram\n",
    "with open(\"iris-entropy-4level.dot\", 'w') as f:\n",
    "    f = tree.export_graphviz(dt_modeltr4, out_file=f, feature_names=iris_data.feature_names, class_names=iris_data.target_names)\n",
    "\n",
    "# Predict Accuracy Score\n",
    "y_pred4 = dt_modeltr4.predict(x_test4)\n",
    "print(\"Train data accuracy:\",accuracy_score(y_true = y_train4, y_pred=dt_modeltr4.predict(x_train4)))\n",
    "print(\"Test data accuracy:\",accuracy_score(y_true = y_test4, y_pred=y_pred4))\n",
    "print(\"Test data r2:\", r2_score(y_true = y_test4, y_pred=y_pred4))"
   ]
  },
  {
   "cell_type": "code",
   "execution_count": 20,
   "metadata": {},
   "outputs": [],
   "source": [
    "def run_model(criterion, maxDepth):\n",
    "    x_train, x_test, y_train, y_test = train_test_split(predictors, target, test_size = 0.33)\n",
    "\n",
    "    dt_modeltr = tree.DecisionTreeClassifier(criterion=criterion, max_depth=maxDepth)\n",
    "    dt_modeltr.fit(x_train,y_train)\n",
    "\n",
    "    # Predict Accuracy Score\n",
    "    y_pred = dt_modeltr.predict(x_test)\n",
    "    \n",
    "    return [ \n",
    "        accuracy_score(y_true = y_train, y_pred=dt_modeltr.predict(x_train)), \n",
    "        accuracy_score(y_true = y_test, y_pred=y_pred),\n",
    "        r2_score(y_true = y_test, y_pred=y_pred)\n",
    "    ]"
   ]
  },
  {
   "cell_type": "code",
   "execution_count": 44,
   "metadata": {},
   "outputs": [
    {
     "name": "stdout",
     "output_type": "stream",
     "text": [
      "Run model with gini inpurity 10 times\n",
      "       Train Data Accuracy  Test Data Accuracy     r2 Score\n",
      "count               1000.0         1000.000000  1000.000000\n",
      "mean                   1.0            0.945100     0.915793\n",
      "std                    0.0            0.028636     0.044914\n",
      "min                    1.0            0.840000     0.750000\n",
      "25%                    1.0            0.920000     0.887892\n",
      "50%                    1.0            0.940000     0.916574\n",
      "75%                    1.0            0.960000     0.942824\n",
      "max                    1.0            1.000000     1.000000\n"
     ]
    }
   ],
   "source": [
    "print('Run model with gini inpurity 10 times')\n",
    "scores = []\n",
    "for i in range(1000):\n",
    "    scores.append(run_model('gini', None))\n",
    "\n",
    "score_df = pd.DataFrame(scores, columns=['Train Data Accuracy', 'Test Data Accuracy', 'r2 Score'])\n",
    "print(score_df.describe())"
   ]
  },
  {
   "cell_type": "code",
   "execution_count": 45,
   "metadata": {},
   "outputs": [
    {
     "name": "stdout",
     "output_type": "stream",
     "text": [
      "Run model with entropy 10 times\n",
      "       Train Data Accuracy  Test Data Accuracy     r2 Score\n",
      "count               1000.0         1000.000000  1000.000000\n",
      "mean                   1.0            0.943680     0.913660\n",
      "std                    0.0            0.027291     0.043502\n",
      "min                    1.0            0.780000     0.633333\n",
      "25%                    1.0            0.920000     0.886492\n",
      "50%                    1.0            0.940000     0.914237\n",
      "75%                    1.0            0.960000     0.942562\n",
      "max                    1.0            1.000000     1.000000\n"
     ]
    }
   ],
   "source": [
    "print('Run model with entropy 10 times')\n",
    "scores = []\n",
    "for i in range(1000):\n",
    "    scores.append(run_model('entropy', None))\n",
    "\n",
    "score_df = pd.DataFrame(scores, columns=['Train Data Accuracy', 'Test Data Accuracy', 'r2 Score'])\n",
    "print(score_df.describe())"
   ]
  },
  {
   "cell_type": "code",
   "execution_count": 46,
   "metadata": {},
   "outputs": [
    {
     "name": "stdout",
     "output_type": "stream",
     "text": [
      "Run model with gini inpurity with depth of 4, 10 times\n",
      "       Train Data Accuracy  Test Data Accuracy     r2 Score\n",
      "count          1000.000000         1000.000000  1000.000000\n",
      "mean              0.992880            0.945540     0.916688\n",
      "std               0.007494            0.027685     0.043817\n",
      "min               0.970000            0.840000     0.678457\n",
      "25%               0.990000            0.920000     0.891068\n",
      "50%               0.990000            0.940000     0.916713\n",
      "75%               1.000000            0.960000     0.942562\n",
      "max               1.000000            1.000000     1.000000\n"
     ]
    }
   ],
   "source": [
    "print('Run model with gini inpurity with depth of 4, 10 times')\n",
    "scores = []\n",
    "for i in range(1000):\n",
    "    scores.append(run_model('gini', 4))\n",
    "\n",
    "score_df = pd.DataFrame(scores, columns=['Train Data Accuracy', 'Test Data Accuracy', 'r2 Score'])\n",
    "print(score_df.describe())"
   ]
  },
  {
   "cell_type": "code",
   "execution_count": 47,
   "metadata": {},
   "outputs": [
    {
     "name": "stdout",
     "output_type": "stream",
     "text": [
      "Run model with entropy with depth of 4, 10 times\n",
      "       Train Data Accuracy  Test Data Accuracy     r2 Score\n",
      "count          1000.000000         1000.000000  1000.000000\n",
      "mean              0.992370            0.943140     0.912387\n",
      "std               0.008953            0.027439     0.043462\n",
      "min               0.960000            0.840000     0.740428\n",
      "25%               0.990000            0.920000     0.885649\n",
      "50%               0.990000            0.940000     0.913043\n",
      "75%               1.000000            0.960000     0.941038\n",
      "max               1.000000            1.000000     1.000000\n"
     ]
    }
   ],
   "source": [
    "print('Run model with entropy with depth of 4, 10 times')\n",
    "scores = []\n",
    "for i in range(1000):\n",
    "    scores.append(run_model('entropy', 4))\n",
    "\n",
    "score_df = pd.DataFrame(scores, columns=['Train Data Accuracy', 'Test Data Accuracy', 'r2 Score'])\n",
    "print(score_df.describe())"
   ]
  },
  {
   "cell_type": "code",
   "execution_count": null,
   "metadata": {},
   "outputs": [],
   "source": []
  }
 ],
 "metadata": {
  "kernelspec": {
   "display_name": "Python 3 (Spyder)",
   "language": "python3",
   "name": "python3"
  },
  "language_info": {
   "codemirror_mode": {
    "name": "ipython",
    "version": 3
   },
   "file_extension": ".py",
   "mimetype": "text/x-python",
   "name": "python",
   "nbconvert_exporter": "python",
   "pygments_lexer": "ipython3",
   "version": "3.11.4"
  }
 },
 "nbformat": 4,
 "nbformat_minor": 4
}
