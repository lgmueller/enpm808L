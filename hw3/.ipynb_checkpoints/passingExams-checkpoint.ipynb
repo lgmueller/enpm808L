{
 "cells": [
  {
   "cell_type": "markdown",
   "metadata": {},
   "source": [
    "# Exercise 3\n",
    "## Lillian Mueller and Regina Hong \n",
    "Investigating linear regression "
   ]
  },
  {
   "cell_type": "code",
   "execution_count": 1,
   "metadata": {},
   "outputs": [],
   "source": [
    "from sklearn import linear_model\n",
    "import pandas as pd \n",
    "import numpy as np\n",
    "import matplotlib.pyplot as plt"
   ]
  },
  {
   "cell_type": "code",
   "execution_count": 12,
   "metadata": {},
   "outputs": [
    {
     "data": {
      "text/html": [
       "<div>\n",
       "<style scoped>\n",
       "    .dataframe tbody tr th:only-of-type {\n",
       "        vertical-align: middle;\n",
       "    }\n",
       "\n",
       "    .dataframe tbody tr th {\n",
       "        vertical-align: top;\n",
       "    }\n",
       "\n",
       "    .dataframe thead th {\n",
       "        text-align: right;\n",
       "    }\n",
       "</style>\n",
       "<table border=\"1\" class=\"dataframe\">\n",
       "  <thead>\n",
       "    <tr style=\"text-align: right;\">\n",
       "      <th></th>\n",
       "      <th>Hours (xk)</th>\n",
       "      <th>Pass (yk)</th>\n",
       "    </tr>\n",
       "  </thead>\n",
       "  <tbody>\n",
       "    <tr>\n",
       "      <th>15</th>\n",
       "      <td>4.25</td>\n",
       "      <td>1.0</td>\n",
       "    </tr>\n",
       "    <tr>\n",
       "      <th>16</th>\n",
       "      <td>4.50</td>\n",
       "      <td>1.0</td>\n",
       "    </tr>\n",
       "    <tr>\n",
       "      <th>18</th>\n",
       "      <td>5.00</td>\n",
       "      <td>1.0</td>\n",
       "    </tr>\n",
       "    <tr>\n",
       "      <th>2</th>\n",
       "      <td>1.00</td>\n",
       "      <td>0.0</td>\n",
       "    </tr>\n",
       "    <tr>\n",
       "      <th>3</th>\n",
       "      <td>1.25</td>\n",
       "      <td>0.0</td>\n",
       "    </tr>\n",
       "  </tbody>\n",
       "</table>\n",
       "</div>"
      ],
      "text/plain": [
       "    Hours (xk)  Pass (yk)\n",
       "15        4.25        1.0\n",
       "16        4.50        1.0\n",
       "18        5.00        1.0\n",
       "2         1.00        0.0\n",
       "3         1.25        0.0"
      ]
     },
     "execution_count": 12,
     "metadata": {},
     "output_type": "execute_result"
    }
   ],
   "source": [
    "# import wiki pass/fail data \n",
    "wiki_data = pd.DataFrame()\n",
    "with open('wiki_data.txt', 'r') as f: \n",
    "    for line in f:\n",
    "        # split line by commas and remove newline character\n",
    "        entry = line.replace('\\n', '').split(',')\n",
    "        # convert items into floats\n",
    "        wiki_data[entry[0]] = list(map(float, entry[1:]))\n",
    "    f.close()\n",
    "\n",
    "wiki_data.sample(5)"
   ]
  },
  {
   "cell_type": "code",
   "execution_count": 7,
   "metadata": {},
   "outputs": [
    {
     "data": {
      "text/plain": [
       "array([[0.5 ],\n",
       "       [0.75],\n",
       "       [1.  ],\n",
       "       [1.25],\n",
       "       [1.5 ],\n",
       "       [1.75],\n",
       "       [1.75],\n",
       "       [2.  ],\n",
       "       [2.25],\n",
       "       [2.5 ],\n",
       "       [2.75],\n",
       "       [3.  ],\n",
       "       [3.25],\n",
       "       [3.5 ],\n",
       "       [4.  ],\n",
       "       [4.25],\n",
       "       [4.5 ],\n",
       "       [4.75],\n",
       "       [5.  ],\n",
       "       [5.5 ]])"
      ]
     },
     "execution_count": 7,
     "metadata": {},
     "output_type": "execute_result"
    }
   ],
   "source": [
    "wiki_hours"
   ]
  },
  {
   "cell_type": "code",
   "execution_count": 9,
   "metadata": {},
   "outputs": [
    {
     "name": "stdout",
     "output_type": "stream",
     "text": [
      "B0:  -4.077717641176838\n",
      "B1:  1.504645217662829\n",
      "mu:  2.7100858018282685\n",
      "s:  0.6646084992403084\n"
     ]
    }
   ],
   "source": [
    "# reshape hours array to fit (numSamples, nFeatures)\n",
    "wiki_hours = np.array(wiki_data['Hours (xk)']).reshape(len(wiki_data.index), 1)\n",
    "\n",
    "# fit logistic regression to wiki data \n",
    "logR = linear_model.LogisticRegression(penalty=None).fit(\n",
    "    wiki_hours, \n",
    "    wiki_data['Pass (yk)']\n",
    "    )\n",
    "\n",
    "# find coefficients \n",
    "B0 = logR.intercept_[0]\n",
    "B1 = logR.coef_[0][0]\n",
    "print('B0: ', B0)\n",
    "print('B1: ', B1)\n",
    "\n",
    "\n",
    "mu = -B0/B1\n",
    "s = 1/B1\n",
    "print('mu: ', mu)\n",
    "print('s: ', s)"
   ]
  },
  {
   "cell_type": "code",
   "execution_count": 10,
   "metadata": {},
   "outputs": [
    {
     "data": {
      "text/html": [
       "<div>\n",
       "<style scoped>\n",
       "    .dataframe tbody tr th:only-of-type {\n",
       "        vertical-align: middle;\n",
       "    }\n",
       "\n",
       "    .dataframe tbody tr th {\n",
       "        vertical-align: top;\n",
       "    }\n",
       "\n",
       "    .dataframe thead th {\n",
       "        text-align: right;\n",
       "    }\n",
       "</style>\n",
       "<table border=\"1\" class=\"dataframe\">\n",
       "  <thead>\n",
       "    <tr style=\"text-align: right;\">\n",
       "      <th></th>\n",
       "      <th>Hours</th>\n",
       "      <th>t</th>\n",
       "      <th>e^t</th>\n",
       "      <th>p</th>\n",
       "      <th>Prediction</th>\n",
       "    </tr>\n",
       "  </thead>\n",
       "  <tbody>\n",
       "    <tr>\n",
       "      <th>0</th>\n",
       "      <td>1.000000</td>\n",
       "      <td>-2.573072</td>\n",
       "      <td>0.076301</td>\n",
       "      <td>0.070892</td>\n",
       "      <td>0.070892</td>\n",
       "    </tr>\n",
       "    <tr>\n",
       "      <th>1</th>\n",
       "      <td>2.000000</td>\n",
       "      <td>-1.068427</td>\n",
       "      <td>0.343548</td>\n",
       "      <td>0.255702</td>\n",
       "      <td>0.255702</td>\n",
       "    </tr>\n",
       "    <tr>\n",
       "      <th>2</th>\n",
       "      <td>2.710086</td>\n",
       "      <td>0.000000</td>\n",
       "      <td>1.000000</td>\n",
       "      <td>0.500000</td>\n",
       "      <td>0.500000</td>\n",
       "    </tr>\n",
       "    <tr>\n",
       "      <th>3</th>\n",
       "      <td>3.000000</td>\n",
       "      <td>0.436218</td>\n",
       "      <td>1.546846</td>\n",
       "      <td>0.607357</td>\n",
       "      <td>0.607357</td>\n",
       "    </tr>\n",
       "    <tr>\n",
       "      <th>4</th>\n",
       "      <td>4.000000</td>\n",
       "      <td>1.940863</td>\n",
       "      <td>6.964761</td>\n",
       "      <td>0.874447</td>\n",
       "      <td>0.874447</td>\n",
       "    </tr>\n",
       "    <tr>\n",
       "      <th>5</th>\n",
       "      <td>5.000000</td>\n",
       "      <td>3.445508</td>\n",
       "      <td>31.359224</td>\n",
       "      <td>0.969097</td>\n",
       "      <td>0.969097</td>\n",
       "    </tr>\n",
       "  </tbody>\n",
       "</table>\n",
       "</div>"
      ],
      "text/plain": [
       "      Hours         t        e^t         p  Prediction\n",
       "0  1.000000 -2.573072   0.076301  0.070892    0.070892\n",
       "1  2.000000 -1.068427   0.343548  0.255702    0.255702\n",
       "2  2.710086  0.000000   1.000000  0.500000    0.500000\n",
       "3  3.000000  0.436218   1.546846  0.607357    0.607357\n",
       "4  4.000000  1.940863   6.964761  0.874447    0.874447\n",
       "5  5.000000  3.445508  31.359224  0.969097    0.969097"
      ]
     },
     "execution_count": 10,
     "metadata": {},
     "output_type": "execute_result"
    }
   ],
   "source": [
    "# get estimated probabilities\n",
    "estProbs = pd.DataFrame()\n",
    "# create array of study hours \n",
    "estProbs['Hours'] = list(range(1, 3)) + [mu] + list(range(3, 6))\n",
    "\n",
    "# log-odds (t)\n",
    "estProbs['t'] = B0 + estProbs['Hours']*B1\n",
    "\n",
    "# Odds (e^t)\n",
    "estProbs['e^t'] = np.exp(estProbs['t'])\n",
    "\n",
    "# Probability\n",
    "estProbs['p'] = 1/(1+np.exp(-estProbs['t']))\n",
    "\n",
    "# Probability Score using model\n",
    "estProbs['Prediction'] = [row[-1] for row in logR.predict_proba(np.array(estProbs['Hours']).reshape(6, 1))]\n",
    "\n",
    "estProbs"
   ]
  },
  {
   "cell_type": "code",
   "execution_count": 11,
   "metadata": {},
   "outputs": [
    {
     "data": {
      "image/png": "[encoded data removed]",
      "text/plain": [
       "<Figure size 432x288 with 1 Axes>"
      ]
     },
     "metadata": {},
     "output_type": "display_data"
    }
   ],
   "source": [
    "# plot graph \n",
    "plt.clf()\n",
    "\n",
    "# plot wiki data\n",
    "plt.scatter(wiki_data['Hours (xk)'], wiki_data['Pass (yk)'])\n",
    "\n",
    "# plot probability curve \n",
    "hrs = np.linspace(0, 6, 100)\n",
    "# only use probability of passing\n",
    "p = [row[-1] for row in logR.predict_proba(np.array(hrs).reshape(100, 1))]\n",
    "plt.plot(hrs, p)\n",
    "\n",
    "# label plot \n",
    "plt.title(\"Prob of Passing versus Hours Studying\")\n",
    "plt.xlabel(\"Hours Studying\")\n",
    "plt.ylabel('Probability of Passing Exam')\n",
    "plt.legend(['Samples', 'Probability Curve'], loc=\"center right\")\n",
    "\n",
    "plt.savefig(\"passingExams.png\")\n",
    "plt.show()"
   ]
  },
  {
   "cell_type": "code",
   "execution_count": null,
   "metadata": {},
   "outputs": [],
   "source": []
  }
 ],
 "metadata": {
  "kernelspec": {
   "display_name": "Python 3 (Spyder)",
   "language": "python3",
   "name": "python3"
  },
  "language_info": {
   "codemirror_mode": {
    "name": "ipython",
    "version": 3
   },
   "file_extension": ".py",
   "mimetype": "text/x-python",
   "name": "python",
   "nbconvert_exporter": "python",
   "pygments_lexer": "ipython3",
   "version": "3.11.4"
  }
 },
 "nbformat": 4,
 "nbformat_minor": 4
}
