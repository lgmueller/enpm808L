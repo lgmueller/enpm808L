{
 "cells": [
  {
   "cell_type": "markdown",
   "metadata": {},
   "source": [
    "# Exercise 6 \n",
    "## Lillian Mueller \n",
    "compare the confusion matrices from each classification model (KNN, decision tree, logistic regression)"
   ]
  },
  {
   "cell_type": "code",
   "execution_count": 61,
   "metadata": {},
   "outputs": [],
   "source": [
    "from sklearn import (\n",
    "    linear_model, \n",
    "    preprocessing,\n",
    "    model_selection,\n",
    "    metrics, \n",
    "    tree, \n",
    "    neighbors)\n",
    "from sklearn.datasets import load_iris\n",
    "import pandas as pd \n",
    "import numpy as np\n",
    "import matplotlib.pyplot as plt"
   ]
  },
  {
   "cell_type": "code",
   "execution_count": 62,
   "metadata": {},
   "outputs": [
    {
     "name": "stdout",
     "output_type": "stream",
     "text": [
      "Full Dataset:\n"
     ]
    },
    {
     "data": {
      "text/html": [
       "<div>\n",
       "<style scoped>\n",
       "    .dataframe tbody tr th:only-of-type {\n",
       "        vertical-align: middle;\n",
       "    }\n",
       "\n",
       "    .dataframe tbody tr th {\n",
       "        vertical-align: top;\n",
       "    }\n",
       "\n",
       "    .dataframe thead th {\n",
       "        text-align: right;\n",
       "    }\n",
       "</style>\n",
       "<table border=\"1\" class=\"dataframe\">\n",
       "  <thead>\n",
       "    <tr style=\"text-align: right;\">\n",
       "      <th></th>\n",
       "      <th>sepal length (cm)</th>\n",
       "      <th>sepal width (cm)</th>\n",
       "      <th>petal length (cm)</th>\n",
       "      <th>petal width (cm)</th>\n",
       "      <th>class</th>\n",
       "      <th>class_level</th>\n",
       "    </tr>\n",
       "  </thead>\n",
       "  <tbody>\n",
       "    <tr>\n",
       "      <th>74</th>\n",
       "      <td>6.4</td>\n",
       "      <td>2.9</td>\n",
       "      <td>4.3</td>\n",
       "      <td>1.3</td>\n",
       "      <td>versicolor</td>\n",
       "      <td>1</td>\n",
       "    </tr>\n",
       "    <tr>\n",
       "      <th>89</th>\n",
       "      <td>5.5</td>\n",
       "      <td>2.5</td>\n",
       "      <td>4.0</td>\n",
       "      <td>1.3</td>\n",
       "      <td>versicolor</td>\n",
       "      <td>1</td>\n",
       "    </tr>\n",
       "    <tr>\n",
       "      <th>15</th>\n",
       "      <td>5.7</td>\n",
       "      <td>4.4</td>\n",
       "      <td>1.5</td>\n",
       "      <td>0.4</td>\n",
       "      <td>setosa</td>\n",
       "      <td>0</td>\n",
       "    </tr>\n",
       "    <tr>\n",
       "      <th>49</th>\n",
       "      <td>5.0</td>\n",
       "      <td>3.3</td>\n",
       "      <td>1.4</td>\n",
       "      <td>0.2</td>\n",
       "      <td>setosa</td>\n",
       "      <td>0</td>\n",
       "    </tr>\n",
       "  </tbody>\n",
       "</table>\n",
       "</div>"
      ],
      "text/plain": [
       "    sepal length (cm)  sepal width (cm)  petal length (cm)  petal width (cm)  \\\n",
       "74                6.4               2.9                4.3               1.3   \n",
       "89                5.5               2.5                4.0               1.3   \n",
       "15                5.7               4.4                1.5               0.4   \n",
       "49                5.0               3.3                1.4               0.2   \n",
       "\n",
       "         class  class_level  \n",
       "74  versicolor            1  \n",
       "89  versicolor            1  \n",
       "15      setosa            0  \n",
       "49      setosa            0  "
      ]
     },
     "execution_count": 62,
     "metadata": {},
     "output_type": "execute_result"
    }
   ],
   "source": [
    "# loading in the iris dataset from sklearn\n",
    "iris_data = load_iris()\n",
    "\n",
    "# turning dataset into dataframe format for easier reading\n",
    "df_iris = pd.DataFrame(data=iris_data.data, columns=iris_data.feature_names)\n",
    "\n",
    "# adding the target as a class column and renaming numbers to class names\n",
    "# 0 = setosa, 1 = versicolor, 2 = virginica\n",
    "\n",
    "df_iris['class'] = iris_data.target.tolist()\n",
    "df_iris['class'].replace({0: 'setosa', 1: 'versicolor', 2: 'virginica'},\n",
    "                inplace=True)\n",
    "\n",
    "#Create a new column for the target (to be ready for processing)\n",
    "label_obj = preprocessing.LabelEncoder()\n",
    "df_iris['class_level'] = label_obj.fit_transform(df_iris['class'])\n",
    "\n",
    "print(\"Full Dataset:\")\n",
    "df_iris.sample(4)"
   ]
  },
  {
   "cell_type": "code",
   "execution_count": 63,
   "metadata": {},
   "outputs": [],
   "source": [
    "# cross validation of logistic model without penality\n",
    "# using without penality highest accuracy as shown in report 3\n",
    "predictors, target = iris_data.data, iris_data.target\n",
    "\n",
    "x_train, x_test, y_train, y_test = model_selection.train_test_split(\n",
    "    predictors, \n",
    "    target, \n",
    "    test_size = 0.33, \n",
    "    random_state=8, \n",
    "    )"
   ]
  },
  {
   "cell_type": "code",
   "execution_count": 64,
   "metadata": {},
   "outputs": [
    {
     "name": "stdout",
     "output_type": "stream",
     "text": [
      "Classification Report for Decision Tree Model\n",
      "               precision    recall  f1-score   support\n",
      "\n",
      "           0       1.00      1.00      1.00        18\n",
      "           1       0.83      0.94      0.88        16\n",
      "           2       0.93      0.81      0.87        16\n",
      "\n",
      "    accuracy                           0.92        50\n",
      "   macro avg       0.92      0.92      0.92        50\n",
      "weighted avg       0.92      0.92      0.92        50\n",
      "\n",
      "[0.92, array([1.    , 0.9375, 0.8125]), array([1.        , 0.83333333, 0.92857143])]\n"
     ]
    }
   ],
   "source": [
    "# create decision tree model using same training and test datasets \n",
    "dTree = tree.DecisionTreeClassifier(criterion='gini').fit(x_train, y_train)\n",
    "\n",
    "# Test model with testing dataset and find accuracy \n",
    "dtree_pred = dTree.predict(x_test)\n",
    "\n",
    "# get classification report \n",
    "print(\n",
    "    'Classification Report for Decision Tree Model\\n', \n",
    "    metrics.classification_report(y_test, dtree_pred))\n",
    "\n",
    "results = {\n",
    "    'DTree' : [\n",
    "        metrics.accuracy_score(y_test, dtree_pred), \n",
    "        metrics.recall_score(y_test, dtree_pred, average=None), \n",
    "        metrics.precision_score(y_test, dtree_pred, average=None)\n",
    "    ]\n",
    "}\n",
    "print(results['DTree'])"
   ]
  },
  {
   "cell_type": "code",
   "execution_count": 65,
   "metadata": {},
   "outputs": [
    {
     "data": {
      "image/png": "[encoded data removed]",
      "text/plain": [
       "<Figure size 640x480 with 2 Axes>"
      ]
     },
     "metadata": {},
     "output_type": "display_data"
    }
   ],
   "source": [
    "# plot confusion matrix for decision tree\n",
    "dtree_cm = metrics.confusion_matrix(y_test, dtree_pred)\n",
    "cm_display = metrics.ConfusionMatrixDisplay(dtree_cm).plot()\n",
    "plt.title('Decision Tree Confusion Matrix')\n",
    "plt.savefig(\"dtree_cm.png\")"
   ]
  },
  {
   "cell_type": "code",
   "execution_count": 66,
   "metadata": {},
   "outputs": [
    {
     "name": "stdout",
     "output_type": "stream",
     "text": [
      "Classification Report for Logistic Regression Model\n",
      "               precision    recall  f1-score   support\n",
      "\n",
      "           0       1.00      1.00      1.00        18\n",
      "           1       0.94      0.94      0.94        16\n",
      "           2       0.94      0.94      0.94        16\n",
      "\n",
      "    accuracy                           0.96        50\n",
      "   macro avg       0.96      0.96      0.96        50\n",
      "weighted avg       0.96      0.96      0.96        50\n",
      "\n",
      "[0.96, array([1.    , 0.9375, 0.9375]), array([1.    , 0.9375, 0.9375])]\n"
     ]
    },
    {
     "data": {
      "image/png": "[encoded data removed]",
      "text/plain": [
       "<Figure size 640x480 with 2 Axes>"
      ]
     },
     "metadata": {},
     "output_type": "display_data"
    }
   ],
   "source": [
    "# create logistic regression model using same training and test datasets \n",
    "logR = linear_model.LogisticRegression(penalty=None).fit(x_train, y_train)\n",
    "\n",
    "# Test model with testing dataset and find accuracy \n",
    "logR_pred = logR.predict(x_test)\n",
    "\n",
    "# get classification report \n",
    "print(\n",
    "    'Classification Report for Logistic Regression Model\\n', \n",
    "    metrics.classification_report(y_test, logR_pred))\n",
    "\n",
    "results['LogReg'] = [\n",
    "        metrics.accuracy_score(y_test, logR_pred), \n",
    "        metrics.recall_score(y_test, logR_pred, average=None), \n",
    "        metrics.precision_score(y_test, logR_pred, average=None)\n",
    "    ]\n",
    "\n",
    "print(results['LogReg'])\n",
    "\n",
    "# plot confusion matrix for logistic regression \n",
    "logR_cm = metrics.confusion_matrix(y_test, logR_pred)\n",
    "cm_display = metrics.ConfusionMatrixDisplay(logR_cm).plot()\n",
    "plt.title('Logistic Regression Confusion Matrix')\n",
    "plt.savefig(\"logR_cm.png\")"
   ]
  },
  {
   "cell_type": "code",
   "execution_count": 67,
   "metadata": {},
   "outputs": [
    {
     "name": "stdout",
     "output_type": "stream",
     "text": [
      "Classification Report for KNN Model\n",
      "               precision    recall  f1-score   support\n",
      "\n",
      "           0       1.00      1.00      1.00        18\n",
      "           1       0.94      1.00      0.97        16\n",
      "           2       1.00      0.94      0.97        16\n",
      "\n",
      "    accuracy                           0.98        50\n",
      "   macro avg       0.98      0.98      0.98        50\n",
      "weighted avg       0.98      0.98      0.98        50\n",
      "\n",
      "[0.98, array([1.    , 1.    , 0.9375]), array([1.        , 0.94117647, 1.        ])]\n"
     ]
    },
    {
     "data": {
      "image/png": "[encoded data removed]",
      "text/plain": [
       "<Figure size 640x480 with 2 Axes>"
      ]
     },
     "metadata": {},
     "output_type": "display_data"
    }
   ],
   "source": [
    "# create KNN model using same training and test datasets \n",
    "knn = neighbors.KNeighborsClassifier(\n",
    "    n_neighbors=10,\n",
    "    metric='euclidean').fit(x_train, y_train)\n",
    "\n",
    "# Test model with testing dataset and find accuracy \n",
    "knn_pred = knn.predict(x_test)\n",
    "\n",
    "# get classification report \n",
    "print(\n",
    "    'Classification Report for KNN Model\\n', \n",
    "    metrics.classification_report(y_test, knn_pred))\n",
    "\n",
    "results['KNN'] = [\n",
    "        metrics.accuracy_score(y_test, knn_pred), \n",
    "        metrics.recall_score(y_test, knn_pred, average=None), \n",
    "        metrics.precision_score(y_test, knn_pred, average=None)\n",
    "    ]\n",
    "\n",
    "print(results['KNN'])\n",
    "\n",
    "# plot confusion matrix for logistic regression \n",
    "knn_cm = metrics.confusion_matrix(y_test, knn_pred)\n",
    "cm_display = metrics.ConfusionMatrixDisplay(knn_cm).plot()\n",
    "plt.title('K-Nearest Neighbors Confusion Matrix')\n",
    "plt.savefig(\"knn_cm.png\")"
   ]
  },
  {
   "cell_type": "code",
   "execution_count": 68,
   "metadata": {},
   "outputs": [],
   "source": [
    "def calculate_expected_profit(confusionMatrix, costBenefits):\n",
    "    # calucate expected rates\n",
    "    expectedRates = confusionMatrix/confusionMatrix.sum()\n",
    "    print(confusionMatrix, '\\n', expectedRates)\n",
    "    # multiply rates with costBenefits \n",
    "    expectedValues = expectedRates * costBenefits\n",
    "\n",
    "    # return expected value \n",
    "    return expectedValues.sum()"
   ]
  },
  {
   "cell_type": "code",
   "execution_count": 69,
   "metadata": {},
   "outputs": [
    {
     "name": "stdout",
     "output_type": "stream",
     "text": [
      "Cost and Benefits Matrix\n",
      " [[ 1. -1. -1.]\n",
      " [-1.  1. -1.]\n",
      " [-1. -1.  1.]]\n"
     ]
    }
   ],
   "source": [
    "costandbenefitsMatrix = -np.ones((3, 3))\n",
    "# correct classifications = 1\n",
    "for i in range(3):\n",
    "    costandbenefitsMatrix[i][i] = 1\n",
    "print('Cost and Benefits Matrix\\n', costandbenefitsMatrix)"
   ]
  },
  {
   "cell_type": "code",
   "execution_count": 70,
   "metadata": {},
   "outputs": [
    {
     "name": "stdout",
     "output_type": "stream",
     "text": [
      "[[18  0  0]\n",
      " [ 0 15  1]\n",
      " [ 0  3 13]] \n",
      " [[0.36 0.   0.  ]\n",
      " [0.   0.3  0.02]\n",
      " [0.   0.06 0.26]]\n",
      "[[18  0  0]\n",
      " [ 0 15  1]\n",
      " [ 0  1 15]] \n",
      " [[0.36 0.   0.  ]\n",
      " [0.   0.3  0.02]\n",
      " [0.   0.02 0.3 ]]\n",
      "[[18  0  0]\n",
      " [ 0 16  0]\n",
      " [ 0  1 15]] \n",
      " [[0.36 0.   0.  ]\n",
      " [0.   0.32 0.  ]\n",
      " [0.   0.02 0.3 ]]\n"
     ]
    },
    {
     "data": {
      "text/html": [
       "<div>\n",
       "<style scoped>\n",
       "    .dataframe tbody tr th:only-of-type {\n",
       "        vertical-align: middle;\n",
       "    }\n",
       "\n",
       "    .dataframe tbody tr th {\n",
       "        vertical-align: top;\n",
       "    }\n",
       "\n",
       "    .dataframe thead th {\n",
       "        text-align: right;\n",
       "    }\n",
       "</style>\n",
       "<table border=\"1\" class=\"dataframe\">\n",
       "  <thead>\n",
       "    <tr style=\"text-align: right;\">\n",
       "      <th></th>\n",
       "      <th>Expected Profit</th>\n",
       "    </tr>\n",
       "  </thead>\n",
       "  <tbody>\n",
       "    <tr>\n",
       "      <th>Decision Tree</th>\n",
       "      <td>0.84</td>\n",
       "    </tr>\n",
       "    <tr>\n",
       "      <th>Logistic Regression</th>\n",
       "      <td>0.92</td>\n",
       "    </tr>\n",
       "    <tr>\n",
       "      <th>KNN</th>\n",
       "      <td>0.96</td>\n",
       "    </tr>\n",
       "  </tbody>\n",
       "</table>\n",
       "</div>"
      ],
      "text/plain": [
       "                     Expected Profit\n",
       "Decision Tree                   0.84\n",
       "Logistic Regression             0.92\n",
       "KNN                             0.96"
      ]
     },
     "execution_count": 70,
     "metadata": {},
     "output_type": "execute_result"
    }
   ],
   "source": [
    "profits = []\n",
    "for cm in [dtree_cm, logR_cm, knn_cm]:\n",
    "    profits.append(calculate_expected_profit(cm, costandbenefitsMatrix))\n",
    "\n",
    "profits_df = pd.DataFrame(\n",
    "    index=['Decision Tree', 'Logistic Regression', 'KNN']\n",
    ")\n",
    "profits_df['Expected Profit'] = profits\n",
    "profits_df"
   ]
  }
 ],
 "metadata": {
  "kernelspec": {
   "display_name": "Python 3",
   "language": "python",
   "name": "python3"
  },
  "language_info": {
   "codemirror_mode": {
    "name": "ipython",
    "version": 3
   },
   "file_extension": ".py",
   "mimetype": "text/x-python",
   "name": "python",
   "nbconvert_exporter": "python",
   "pygments_lexer": "ipython3",
   "version": "3.11.5"
  },
  "orig_nbformat": 4
 },
 "nbformat": 4,
 "nbformat_minor": 2
}
