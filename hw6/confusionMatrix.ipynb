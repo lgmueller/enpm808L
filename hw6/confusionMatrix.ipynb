{
 "cells": [
  {
   "cell_type": "markdown",
   "metadata": {},
   "source": [
    "# Exercise 6 \n",
    "## Lillian Mueller \n",
    "compare the confusion matrices from each classification model (KNN, decision tree, logistic regression)"
   ]
  },
  {
   "cell_type": "code",
   "execution_count": 108,
   "metadata": {},
   "outputs": [],
   "source": [
    "from sklearn import (\n",
    "    linear_model, \n",
    "    preprocessing,\n",
    "    model_selection,\n",
    "    metrics, \n",
    "    tree, \n",
    "    neighbors)\n",
    "from sklearn.datasets import load_iris\n",
    "import pandas as pd \n",
    "import numpy as np\n",
    "import matplotlib.pyplot as plt"
   ]
  },
  {
   "cell_type": "code",
   "execution_count": 109,
   "metadata": {},
   "outputs": [
    {
     "name": "stdout",
     "output_type": "stream",
     "text": [
      "Full Dataset:\n"
     ]
    },
    {
     "data": {
      "text/html": [
       "<div>\n",
       "<style scoped>\n",
       "    .dataframe tbody tr th:only-of-type {\n",
       "        vertical-align: middle;\n",
       "    }\n",
       "\n",
       "    .dataframe tbody tr th {\n",
       "        vertical-align: top;\n",
       "    }\n",
       "\n",
       "    .dataframe thead th {\n",
       "        text-align: right;\n",
       "    }\n",
       "</style>\n",
       "<table border=\"1\" class=\"dataframe\">\n",
       "  <thead>\n",
       "    <tr style=\"text-align: right;\">\n",
       "      <th></th>\n",
       "      <th>sepal length (cm)</th>\n",
       "      <th>sepal width (cm)</th>\n",
       "      <th>petal length (cm)</th>\n",
       "      <th>petal width (cm)</th>\n",
       "      <th>class</th>\n",
       "      <th>class_level</th>\n",
       "    </tr>\n",
       "  </thead>\n",
       "  <tbody>\n",
       "    <tr>\n",
       "      <th>74</th>\n",
       "      <td>6.4</td>\n",
       "      <td>2.9</td>\n",
       "      <td>4.3</td>\n",
       "      <td>1.3</td>\n",
       "      <td>versicolor</td>\n",
       "      <td>1</td>\n",
       "    </tr>\n",
       "    <tr>\n",
       "      <th>8</th>\n",
       "      <td>4.4</td>\n",
       "      <td>2.9</td>\n",
       "      <td>1.4</td>\n",
       "      <td>0.2</td>\n",
       "      <td>setosa</td>\n",
       "      <td>0</td>\n",
       "    </tr>\n",
       "    <tr>\n",
       "      <th>52</th>\n",
       "      <td>6.9</td>\n",
       "      <td>3.1</td>\n",
       "      <td>4.9</td>\n",
       "      <td>1.5</td>\n",
       "      <td>versicolor</td>\n",
       "      <td>1</td>\n",
       "    </tr>\n",
       "    <tr>\n",
       "      <th>22</th>\n",
       "      <td>4.6</td>\n",
       "      <td>3.6</td>\n",
       "      <td>1.0</td>\n",
       "      <td>0.2</td>\n",
       "      <td>setosa</td>\n",
       "      <td>0</td>\n",
       "    </tr>\n",
       "  </tbody>\n",
       "</table>\n",
       "</div>"
      ],
      "text/plain": [
       "    sepal length (cm)  sepal width (cm)  petal length (cm)  petal width (cm)  \\\n",
       "74                6.4               2.9                4.3               1.3   \n",
       "8                 4.4               2.9                1.4               0.2   \n",
       "52                6.9               3.1                4.9               1.5   \n",
       "22                4.6               3.6                1.0               0.2   \n",
       "\n",
       "         class  class_level  \n",
       "74  versicolor            1  \n",
       "8       setosa            0  \n",
       "52  versicolor            1  \n",
       "22      setosa            0  "
      ]
     },
     "execution_count": 109,
     "metadata": {},
     "output_type": "execute_result"
    }
   ],
   "source": [
    "# loading in the iris dataset from sklearn\n",
    "iris_data = load_iris()\n",
    "\n",
    "# turning dataset into dataframe format for easier reading\n",
    "df_iris = pd.DataFrame(data=iris_data.data, columns=iris_data.feature_names)\n",
    "\n",
    "# adding the target as a class column and renaming numbers to class names\n",
    "# 0 = setosa, 1 = versicolor, 2 = virginica\n",
    "\n",
    "df_iris['class'] = iris_data.target.tolist()\n",
    "df_iris['class'].replace({0: 'setosa', 1: 'versicolor', 2: 'virginica'},\n",
    "                inplace=True)\n",
    "\n",
    "#Create a new column for the target (to be ready for processing)\n",
    "label_obj = preprocessing.LabelEncoder()\n",
    "df_iris['class_level'] = label_obj.fit_transform(df_iris['class'])\n",
    "\n",
    "print(\"Full Dataset:\")\n",
    "df_iris.sample(4)"
   ]
  },
  {
   "cell_type": "code",
   "execution_count": 110,
   "metadata": {},
   "outputs": [],
   "source": [
    "# cross validation of logistic model without penality\n",
    "# using without penality highest accuracy as shown in report 3\n",
    "predictors, target = iris_data.data, iris_data.target\n",
    "\n",
    "x_train, x_test, y_train, y_test = model_selection.train_test_split(\n",
    "    predictors, \n",
    "    target, \n",
    "    test_size = 0.66, \n",
    "    random_state=2)"
   ]
  },
  {
   "cell_type": "code",
   "execution_count": 111,
   "metadata": {},
   "outputs": [
    {
     "name": "stdout",
     "output_type": "stream",
     "text": [
      "Classification Report for Decision Tree Model\n",
      "               precision    recall  f1-score   support\n",
      "\n",
      "           0       1.00      1.00      1.00        35\n",
      "           1       0.94      0.97      0.95        31\n",
      "           2       0.97      0.94      0.95        33\n",
      "\n",
      "    accuracy                           0.97        99\n",
      "   macro avg       0.97      0.97      0.97        99\n",
      "weighted avg       0.97      0.97      0.97        99\n",
      "\n",
      "[0.9696969696969697, array([1.        , 0.96774194, 0.93939394]), array([1.     , 0.9375 , 0.96875])]\n"
     ]
    }
   ],
   "source": [
    "# create decision tree model using same training and test datasets \n",
    "dTree = tree.DecisionTreeClassifier(criterion='gini').fit(x_train, y_train)\n",
    "\n",
    "# Test model with testing dataset and find accuracy \n",
    "dtree_pred = dTree.predict(x_test)\n",
    "\n",
    "# get classification report \n",
    "print(\n",
    "    'Classification Report for Decision Tree Model\\n', \n",
    "    metrics.classification_report(y_test, dtree_pred))\n",
    "\n",
    "results = {\n",
    "    'DTree' : [\n",
    "        metrics.accuracy_score(y_test, dtree_pred), \n",
    "        metrics.recall_score(y_test, dtree_pred, average=None), \n",
    "        metrics.precision_score(y_test, dtree_pred, average=None)\n",
    "    ]\n",
    "}\n",
    "print(results['DTree'])"
   ]
  },
  {
   "cell_type": "code",
   "execution_count": 112,
   "metadata": {},
   "outputs": [
    {
     "data": {
      "image/png": "[encoded data removed]",
      "text/plain": [
       "<Figure size 640x480 with 2 Axes>"
      ]
     },
     "metadata": {},
     "output_type": "display_data"
    }
   ],
   "source": [
    "# plot confusion matrix for decision tree\n",
    "dtree_cm = metrics.confusion_matrix(y_test, dtree_pred)\n",
    "cm_display = metrics.ConfusionMatrixDisplay(dtree_cm).plot()\n",
    "plt.title('Decision Tree Confusion Matrix')\n",
    "plt.savefig(\"dtree_cm.png\")"
   ]
  },
  {
   "cell_type": "code",
   "execution_count": 113,
   "metadata": {},
   "outputs": [
    {
     "name": "stdout",
     "output_type": "stream",
     "text": [
      "Classification Report for Logistic Regression Model\n",
      "               precision    recall  f1-score   support\n",
      "\n",
      "           0       1.00      0.91      0.96        35\n",
      "           1       0.86      0.97      0.91        31\n",
      "           2       0.97      0.94      0.95        33\n",
      "\n",
      "    accuracy                           0.94        99\n",
      "   macro avg       0.94      0.94      0.94        99\n",
      "weighted avg       0.94      0.94      0.94        99\n",
      "\n",
      "[0.9393939393939394, array([0.91428571, 0.96774194, 0.93939394]), array([1.        , 0.85714286, 0.96875   ])]\n"
     ]
    },
    {
     "data": {
      "image/png": "[encoded data removed]",
      "text/plain": [
       "<Figure size 640x480 with 2 Axes>"
      ]
     },
     "metadata": {},
     "output_type": "display_data"
    }
   ],
   "source": [
    "# create logistic regression model using same training and test datasets \n",
    "logR = linear_model.LogisticRegression(penalty=None).fit(x_train, y_train)\n",
    "\n",
    "# Test model with testing dataset and find accuracy \n",
    "logR_pred = logR.predict(x_test)\n",
    "\n",
    "# get classification report \n",
    "print(\n",
    "    'Classification Report for Logistic Regression Model\\n', \n",
    "    metrics.classification_report(y_test, logR_pred))\n",
    "\n",
    "results['LogReg'] = [\n",
    "        metrics.accuracy_score(y_test, logR_pred), \n",
    "        metrics.recall_score(y_test, logR_pred, average=None), \n",
    "        metrics.precision_score(y_test, logR_pred, average=None)\n",
    "    ]\n",
    "\n",
    "print(results['LogReg'])\n",
    "\n",
    "# plot confusion matrix for logistic regression \n",
    "logR_cm = metrics.confusion_matrix(y_test, logR_pred)\n",
    "cm_display = metrics.ConfusionMatrixDisplay(logR_cm).plot()\n",
    "plt.title('Logistic Regression Confusion Matrix')\n",
    "plt.savefig(\"logR_cm.png\")"
   ]
  },
  {
   "cell_type": "code",
   "execution_count": 114,
   "metadata": {},
   "outputs": [
    {
     "name": "stdout",
     "output_type": "stream",
     "text": [
      "Classification Report for KNN Model\n",
      "               precision    recall  f1-score   support\n",
      "\n",
      "           0       1.00      1.00      1.00        35\n",
      "           1       0.97      0.97      0.97        31\n",
      "           2       0.97      0.97      0.97        33\n",
      "\n",
      "    accuracy                           0.98        99\n",
      "   macro avg       0.98      0.98      0.98        99\n",
      "weighted avg       0.98      0.98      0.98        99\n",
      "\n",
      "[0.9797979797979798, array([1.        , 0.96774194, 0.96969697]), array([1.        , 0.96774194, 0.96969697])]\n"
     ]
    },
    {
     "data": {
      "image/png": "[encoded data removed]",
      "text/plain": [
       "<Figure size 640x480 with 2 Axes>"
      ]
     },
     "metadata": {},
     "output_type": "display_data"
    }
   ],
   "source": [
    "# create KNN model using same training and test datasets \n",
    "knn = neighbors.KNeighborsClassifier(\n",
    "    n_neighbors=10,\n",
    "    metric='euclidean').fit(x_train, y_train)\n",
    "\n",
    "# Test model with testing dataset and find accuracy \n",
    "knn_pred = knn.predict(x_test)\n",
    "\n",
    "# get classification report \n",
    "print(\n",
    "    'Classification Report for KNN Model\\n', \n",
    "    metrics.classification_report(y_test, knn_pred))\n",
    "\n",
    "results['KNN'] = [\n",
    "        metrics.accuracy_score(y_test, knn_pred), \n",
    "        metrics.recall_score(y_test, knn_pred, average=None), \n",
    "        metrics.precision_score(y_test, knn_pred, average=None)\n",
    "    ]\n",
    "\n",
    "print(results['KNN'])\n",
    "\n",
    "# plot confusion matrix for logistic regression \n",
    "knn_cm = metrics.confusion_matrix(y_test, knn_pred)\n",
    "cm_display = metrics.ConfusionMatrixDisplay(knn_cm).plot()\n",
    "plt.title('K-Nearest Neighbors Confusion Matrix')\n",
    "plt.savefig(\"knn_cm.png\")"
   ]
  },
  {
   "cell_type": "code",
   "execution_count": 115,
   "metadata": {},
   "outputs": [],
   "source": [
    "def calculate_expected_profit(confusionMatrix, costBenefits):\n",
    "    # calucate expected rates \n",
    "    expectedRates = confusionMatrix/confusionMatrix.sum()\n",
    "\n",
    "    # multiply rates with costBenefits \n",
    "    expectedValues = expectedRates * costBenefits\n",
    "\n",
    "    # return expected value \n",
    "    return expectedValues.sum()"
   ]
  },
  {
   "cell_type": "code",
   "execution_count": 116,
   "metadata": {},
   "outputs": [
    {
     "name": "stdout",
     "output_type": "stream",
     "text": [
      "Cost and Benefits Matrix\n",
      " [[ 1. -1. -1.]\n",
      " [-1.  1. -1.]\n",
      " [-1. -1.  1.]]\n"
     ]
    }
   ],
   "source": [
    "costandbenefitsMatrix = -np.ones((3, 3))\n",
    "# correct classifications = 1\n",
    "for i in range(3):\n",
    "    costandbenefitsMatrix[i][i] = 1\n",
    "print('Cost and Benefits Matrix\\n', costandbenefitsMatrix)"
   ]
  },
  {
   "cell_type": "code",
   "execution_count": 117,
   "metadata": {},
   "outputs": [
    {
     "data": {
      "text/html": [
       "<div>\n",
       "<style scoped>\n",
       "    .dataframe tbody tr th:only-of-type {\n",
       "        vertical-align: middle;\n",
       "    }\n",
       "\n",
       "    .dataframe tbody tr th {\n",
       "        vertical-align: top;\n",
       "    }\n",
       "\n",
       "    .dataframe thead th {\n",
       "        text-align: right;\n",
       "    }\n",
       "</style>\n",
       "<table border=\"1\" class=\"dataframe\">\n",
       "  <thead>\n",
       "    <tr style=\"text-align: right;\">\n",
       "      <th></th>\n",
       "      <th>Expected Profit</th>\n",
       "    </tr>\n",
       "  </thead>\n",
       "  <tbody>\n",
       "    <tr>\n",
       "      <th>Decision Tree</th>\n",
       "      <td>0.939394</td>\n",
       "    </tr>\n",
       "    <tr>\n",
       "      <th>Logistic Regression</th>\n",
       "      <td>0.878788</td>\n",
       "    </tr>\n",
       "    <tr>\n",
       "      <th>KNN</th>\n",
       "      <td>0.959596</td>\n",
       "    </tr>\n",
       "  </tbody>\n",
       "</table>\n",
       "</div>"
      ],
      "text/plain": [
       "                     Expected Profit\n",
       "Decision Tree               0.939394\n",
       "Logistic Regression         0.878788\n",
       "KNN                         0.959596"
      ]
     },
     "execution_count": 117,
     "metadata": {},
     "output_type": "execute_result"
    }
   ],
   "source": [
    "profits = []\n",
    "for cm in [dtree_cm, logR_cm, knn_cm]:\n",
    "    profits.append(calculate_expected_profit(cm, costandbenefitsMatrix))\n",
    "\n",
    "profits_df = pd.DataFrame(\n",
    "    index=['Decision Tree', 'Logistic Regression', 'KNN']\n",
    ")\n",
    "profits_df['Expected Profit'] = profits\n",
    "profits_df"
   ]
  }
 ],
 "metadata": {
  "kernelspec": {
   "display_name": "Python 3",
   "language": "python",
   "name": "python3"
  },
  "language_info": {
   "codemirror_mode": {
    "name": "ipython",
    "version": 3
   },
   "file_extension": ".py",
   "mimetype": "text/x-python",
   "name": "python",
   "nbconvert_exporter": "python",
   "pygments_lexer": "ipython3",
   "version": "3.11.5"
  },
  "orig_nbformat": 4
 },
 "nbformat": 4,
 "nbformat_minor": 2
}
