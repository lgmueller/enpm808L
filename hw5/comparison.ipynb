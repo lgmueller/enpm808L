{
 "cells": [
  {
   "cell_type": "markdown",
   "metadata": {},
   "source": [
    "# Exercise 5\n",
    "## Lillian Mueller and Regina Hong \n",
    "Comparing models using cross validation"
   ]
  },
  {
   "cell_type": "code",
   "execution_count": 2,
   "metadata": {},
   "outputs": [],
   "source": [
    "from sklearn import (\n",
    "    linear_model, \n",
    "    preprocessing,\n",
    "    model_selection,\n",
    "    metrics, \n",
    "    tree, \n",
    "    neighbors)\n",
    "from sklearn.datasets import load_iris\n",
    "import pandas as pd \n",
    "import numpy as np\n",
    "import matplotlib.pyplot as plt"
   ]
  },
  {
   "cell_type": "code",
   "execution_count": 3,
   "metadata": {},
   "outputs": [
    {
     "name": "stdout",
     "output_type": "stream",
     "text": [
      "Full Dataset:\n"
     ]
    },
    {
     "data": {
      "text/html": [
       "<div>\n",
       "<style scoped>\n",
       "    .dataframe tbody tr th:only-of-type {\n",
       "        vertical-align: middle;\n",
       "    }\n",
       "\n",
       "    .dataframe tbody tr th {\n",
       "        vertical-align: top;\n",
       "    }\n",
       "\n",
       "    .dataframe thead th {\n",
       "        text-align: right;\n",
       "    }\n",
       "</style>\n",
       "<table border=\"1\" class=\"dataframe\">\n",
       "  <thead>\n",
       "    <tr style=\"text-align: right;\">\n",
       "      <th></th>\n",
       "      <th>sepal length (cm)</th>\n",
       "      <th>sepal width (cm)</th>\n",
       "      <th>petal length (cm)</th>\n",
       "      <th>petal width (cm)</th>\n",
       "      <th>class</th>\n",
       "      <th>class_level</th>\n",
       "    </tr>\n",
       "  </thead>\n",
       "  <tbody>\n",
       "    <tr>\n",
       "      <th>131</th>\n",
       "      <td>7.9</td>\n",
       "      <td>3.8</td>\n",
       "      <td>6.4</td>\n",
       "      <td>2.0</td>\n",
       "      <td>virginica</td>\n",
       "      <td>2</td>\n",
       "    </tr>\n",
       "    <tr>\n",
       "      <th>123</th>\n",
       "      <td>6.3</td>\n",
       "      <td>2.7</td>\n",
       "      <td>4.9</td>\n",
       "      <td>1.8</td>\n",
       "      <td>virginica</td>\n",
       "      <td>2</td>\n",
       "    </tr>\n",
       "    <tr>\n",
       "      <th>109</th>\n",
       "      <td>7.2</td>\n",
       "      <td>3.6</td>\n",
       "      <td>6.1</td>\n",
       "      <td>2.5</td>\n",
       "      <td>virginica</td>\n",
       "      <td>2</td>\n",
       "    </tr>\n",
       "    <tr>\n",
       "      <th>52</th>\n",
       "      <td>6.9</td>\n",
       "      <td>3.1</td>\n",
       "      <td>4.9</td>\n",
       "      <td>1.5</td>\n",
       "      <td>versicolor</td>\n",
       "      <td>1</td>\n",
       "    </tr>\n",
       "  </tbody>\n",
       "</table>\n",
       "</div>"
      ],
      "text/plain": [
       "     sepal length (cm)  sepal width (cm)  petal length (cm)  petal width (cm)  \\\n",
       "131                7.9               3.8                6.4               2.0   \n",
       "123                6.3               2.7                4.9               1.8   \n",
       "109                7.2               3.6                6.1               2.5   \n",
       "52                 6.9               3.1                4.9               1.5   \n",
       "\n",
       "          class  class_level  \n",
       "131   virginica            2  \n",
       "123   virginica            2  \n",
       "109   virginica            2  \n",
       "52   versicolor            1  "
      ]
     },
     "execution_count": 3,
     "metadata": {},
     "output_type": "execute_result"
    }
   ],
   "source": [
    "# loading in the iris dataset from sklearn\n",
    "iris_data = load_iris()\n",
    "\n",
    "# turning dataset into dataframe format for easier reading\n",
    "df_iris = pd.DataFrame(data=iris_data.data, columns=iris_data.feature_names)\n",
    "\n",
    "# adding the target as a class column and renaming numbers to class names\n",
    "# 0 = setosa, 1 = versicolor, 2 = virginica\n",
    "\n",
    "df_iris['class'] = iris_data.target.tolist()\n",
    "df_iris['class'].replace({0: 'setosa', 1: 'versicolor', 2: 'virginica'},\n",
    "                inplace=True)\n",
    "\n",
    "#Create a new column for the target (to be ready for processing)\n",
    "label_obj = preprocessing.LabelEncoder()\n",
    "df_iris['class_level'] = label_obj.fit_transform(df_iris['class'])\n",
    "\n",
    "print(\"Full Dataset:\")\n",
    "df_iris.sample(4)"
   ]
  },
  {
   "cell_type": "code",
   "execution_count": 4,
   "metadata": {},
   "outputs": [
    {
     "name": "stdout",
     "output_type": "stream",
     "text": [
      "Cross Validation of Logistic Regression without Penalty\n",
      "          0\n",
      "0  1.000000\n",
      "1  1.000000\n",
      "2  0.933333\n",
      "3  0.933333\n",
      "4  1.000000\n"
     ]
    }
   ],
   "source": [
    "# cross validation of logistic model without penality\n",
    "# using without penality highest accuracy as shown in report 3\n",
    "predictors, target = iris_data.data, iris_data.target\n",
    "\n",
    "logR_cross_val = model_selection.cross_val_score(\n",
    "    linear_model.LogisticRegression(penalty=None), \n",
    "    predictors, \n",
    "    target, \n",
    "    cv = None,  # default -> 5-fold cross validation\n",
    "    scoring='accuracy'\n",
    ")\n",
    "print(\"Cross Validation of Logistic Regression without Penalty\")\n",
    "logR = pd.DataFrame(logR_cross_val)\n",
    "print(logR)"
   ]
  },
  {
   "cell_type": "code",
   "execution_count": 5,
   "metadata": {},
   "outputs": [
    {
     "name": "stdout",
     "output_type": "stream",
     "text": [
      "Cross Validation using Decision Tree with Entropy\n",
      "          0\n",
      "0  0.966667\n",
      "1  0.966667\n",
      "2  0.900000\n",
      "3  0.966667\n",
      "4  1.000000\n"
     ]
    }
   ],
   "source": [
    "# cross validation of decision tree with entropy\n",
    "# using entropy method showed highest accuracy as shown in report 2\n",
    "dtree_cross_val = model_selection.cross_val_score(\n",
    "    tree.DecisionTreeClassifier(criterion='entropy'), \n",
    "    predictors, \n",
    "    target, \n",
    "    cv = None,  # default -> 5-fold cross validation\n",
    "    scoring='accuracy'\n",
    ")\n",
    "print(\"Cross Validation using Decision Tree with Entropy\")\n",
    "dtree = pd.DataFrame(dtree_cross_val)\n",
    "print(dtree)"
   ]
  },
  {
   "cell_type": "code",
   "execution_count": 6,
   "metadata": {},
   "outputs": [
    {
     "name": "stdout",
     "output_type": "stream",
     "text": [
      "Cross Validation of KNN where k=10 based on euclidean distance\n",
      "          0\n",
      "0  0.966667\n",
      "1  1.000000\n",
      "2  1.000000\n",
      "3  0.933333\n",
      "4  1.000000\n"
     ]
    }
   ],
   "source": [
    "# cross validation of knn where k=10 and metric = euclidean \n",
    "knn_cross_val = model_selection.cross_val_score(\n",
    "    neighbors.KNeighborsClassifier(n_neighbors=10, metric='euclidean'), \n",
    "    predictors, \n",
    "    target, \n",
    "    cv = None,  # default -> 5-fold cross validation\n",
    "    scoring='accuracy'\n",
    ")\n",
    "print(\"Cross Validation of KNN where k=10 based on euclidean distance\")\n",
    "knn = pd.DataFrame(knn_cross_val)\n",
    "print(knn)"
   ]
  },
  {
   "cell_type": "code",
   "execution_count": 7,
   "metadata": {},
   "outputs": [
    {
     "data": {
      "text/html": [
       "<div>\n",
       "<style scoped>\n",
       "    .dataframe tbody tr th:only-of-type {\n",
       "        vertical-align: middle;\n",
       "    }\n",
       "\n",
       "    .dataframe tbody tr th {\n",
       "        vertical-align: top;\n",
       "    }\n",
       "\n",
       "    .dataframe thead th {\n",
       "        text-align: right;\n",
       "    }\n",
       "</style>\n",
       "<table border=\"1\" class=\"dataframe\">\n",
       "  <thead>\n",
       "    <tr style=\"text-align: right;\">\n",
       "      <th></th>\n",
       "      <th>Logistic Regression</th>\n",
       "      <th>Decision Tree</th>\n",
       "      <th>K-Nearest Neighbor</th>\n",
       "    </tr>\n",
       "  </thead>\n",
       "  <tbody>\n",
       "    <tr>\n",
       "      <th>Mean</th>\n",
       "      <td>0.973333</td>\n",
       "      <td>0.960000</td>\n",
       "      <td>0.980000</td>\n",
       "    </tr>\n",
       "    <tr>\n",
       "      <th>Stardard Dev.</th>\n",
       "      <td>0.036515</td>\n",
       "      <td>0.036515</td>\n",
       "      <td>0.029814</td>\n",
       "    </tr>\n",
       "  </tbody>\n",
       "</table>\n",
       "</div>"
      ],
      "text/plain": [
       "               Logistic Regression  Decision Tree  K-Nearest Neighbor\n",
       "Mean                      0.973333       0.960000            0.980000\n",
       "Stardard Dev.             0.036515       0.036515            0.029814"
      ]
     },
     "execution_count": 7,
     "metadata": {},
     "output_type": "execute_result"
    }
   ],
   "source": [
    "# Comparison of score means and standard deviation \n",
    "# create table comparing average and std of multiple dataframes\n",
    "def comparison_table(dfs, columns):\n",
    "    meanScores = pd.concat(\n",
    "        [df.mean() for df in dfs], \n",
    "        axis=1)\n",
    "    meanScores.columns = [col for col in columns]\n",
    "\n",
    "    stdScores = pd.concat(\n",
    "        [df.std() for df in dfs], \n",
    "        axis=1)\n",
    "    stdScores.columns = [col for col in columns]\n",
    "\n",
    "    comparison = pd.concat([meanScores, stdScores], ignore_index=True)\n",
    "    comparison.index = ['Mean', 'Stardard Dev.']\n",
    "    return comparison\n",
    "\n",
    "comparison_table([logR, dtree, knn], ['Logistic Regression', 'Decision Tree', 'K-Nearest Neighbor'])"
   ]
  },
  {
   "cell_type": "code",
   "execution_count": 8,
   "metadata": {},
   "outputs": [],
   "source": [
    "# function that creates comparison table for log and tree model for iris data\n",
    "def cross_val(numfolds):\n",
    "    predictors, target = iris_data.data, iris_data.target\n",
    "\n",
    "    logR_cross_val = model_selection.cross_val_score(\n",
    "        linear_model.LogisticRegression(penalty=None), \n",
    "        predictors, \n",
    "        target, \n",
    "        cv = numfolds,\n",
    "        scoring='accuracy'\n",
    "    )\n",
    "    logR = pd.DataFrame(logR_cross_val)\n",
    "\n",
    "    dtree_cross_val = model_selection.cross_val_score(\n",
    "        tree.DecisionTreeClassifier(criterion='entropy'), \n",
    "        predictors, \n",
    "        target, \n",
    "        cv = numfolds,\n",
    "        scoring='accuracy'\n",
    "    )\n",
    "    dtree = pd.DataFrame(dtree_cross_val)\n",
    "\n",
    "    knn_cross_val = model_selection.cross_val_score(\n",
    "        neighbors.KNeighborsClassifier(n_neighbors=10, metric='euclidean'), \n",
    "        predictors, \n",
    "        target, \n",
    "        cv = numfolds,\n",
    "        scoring='accuracy'\n",
    "    )\n",
    "    knn = pd.DataFrame(knn_cross_val)\n",
    "\n",
    "    return comparison_table([logR, dtree, knn], ['Logistic Regression', 'Decision Tree', 'K-Nearest Neighbor'])"
   ]
  },
  {
   "cell_type": "code",
   "execution_count": 9,
   "metadata": {},
   "outputs": [
    {
     "name": "stdout",
     "output_type": "stream",
     "text": [
      "6\n",
      "               Logistic Regression  Decision Tree  K-Nearest Neighbor\n",
      "Mean                      0.973333       0.946667            0.966667\n",
      "Stardard Dev.             0.032660       0.048442            0.046762\n",
      "8\n",
      "               Logistic Regression  Decision Tree  K-Nearest Neighbor\n",
      "Mean                      0.980263       0.960526            0.966740\n",
      "Stardard Dev.             0.039159       0.046653            0.039383\n",
      "10\n",
      "               Logistic Regression  Decision Tree  K-Nearest Neighbor\n",
      "Mean                      0.980000       0.960000            0.966667\n",
      "Stardard Dev.             0.044997       0.046614            0.047140\n",
      "12\n",
      "               Logistic Regression  Decision Tree  K-Nearest Neighbor\n",
      "Mean                      0.966346       0.959936            0.965812\n",
      "Stardard Dev.             0.081228       0.063993            0.055233\n",
      "14\n",
      "               Logistic Regression  Decision Tree  K-Nearest Neighbor\n",
      "Mean                      0.980519       0.961039            0.966883\n",
      "Stardard Dev.             0.038710       0.046687            0.046163\n"
     ]
    }
   ],
   "source": [
    "# test cross validation with 3 folds \n",
    "for i in range(6, 16, 2):\n",
    "    print(i)\n",
    "    print(cross_val(numfolds=i))"
   ]
  },
  {
   "cell_type": "code",
   "execution_count": 19,
   "metadata": {},
   "outputs": [
    {
     "data": {
      "text/html": [
       "<div>\n",
       "<style scoped>\n",
       "    .dataframe tbody tr th:only-of-type {\n",
       "        vertical-align: middle;\n",
       "    }\n",
       "\n",
       "    .dataframe tbody tr th {\n",
       "        vertical-align: top;\n",
       "    }\n",
       "\n",
       "    .dataframe thead th {\n",
       "        text-align: right;\n",
       "    }\n",
       "</style>\n",
       "<table border=\"1\" class=\"dataframe\">\n",
       "  <thead>\n",
       "    <tr style=\"text-align: right;\">\n",
       "      <th></th>\n",
       "      <th>Logistic Regression</th>\n",
       "      <th>Decision Tree</th>\n",
       "      <th>K-Nearest Neighbor</th>\n",
       "    </tr>\n",
       "  </thead>\n",
       "  <tbody>\n",
       "    <tr>\n",
       "      <th>Mean</th>\n",
       "      <td>0.980263</td>\n",
       "      <td>0.960526</td>\n",
       "      <td>0.966740</td>\n",
       "    </tr>\n",
       "    <tr>\n",
       "      <th>Stardard Dev.</th>\n",
       "      <td>0.039159</td>\n",
       "      <td>0.046653</td>\n",
       "      <td>0.039383</td>\n",
       "    </tr>\n",
       "  </tbody>\n",
       "</table>\n",
       "</div>"
      ],
      "text/plain": [
       "               Logistic Regression  Decision Tree  K-Nearest Neighbor\n",
       "Mean                      0.980263       0.960526            0.966740\n",
       "Stardard Dev.             0.039159       0.046653            0.039383"
      ]
     },
     "execution_count": 19,
     "metadata": {},
     "output_type": "execute_result"
    }
   ],
   "source": [
    "cross_val(numfolds=8)"
   ]
  },
  {
   "cell_type": "code",
   "execution_count": null,
   "metadata": {},
   "outputs": [],
   "source": []
  }
 ],
 "metadata": {
  "kernelspec": {
   "display_name": "Python 3 (Spyder)",
   "language": "python3",
   "name": "python3"
  },
  "language_info": {
   "codemirror_mode": {
    "name": "ipython",
    "version": 3
   },
   "file_extension": ".py",
   "mimetype": "text/x-python",
   "name": "python",
   "nbconvert_exporter": "python",
   "pygments_lexer": "ipython3",
   "version": "3.11.5"
  }
 },
 "nbformat": 4,
 "nbformat_minor": 4
}
